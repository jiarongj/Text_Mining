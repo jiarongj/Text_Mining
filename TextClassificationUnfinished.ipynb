{
  "nbformat": 4,
  "nbformat_minor": 0,
  "metadata": {
    "colab": {
      "name": "Untitled1.ipynb",
      "provenance": [],
      "authorship_tag": "ABX9TyMG6EFl6+C6eVzb3KvWJDLV",
      "include_colab_link": true
    },
    "kernelspec": {
      "name": "python3",
      "display_name": "Python 3"
    }
  },
  "cells": [
    {
      "cell_type": "markdown",
      "metadata": {
        "id": "view-in-github",
        "colab_type": "text"
      },
      "source": [
        "<a href=\"https://colab.research.google.com/github/jiarongj/Text_Mining/blob/master/TextClassificationUnfinished.ipynb\" target=\"_parent\"><img src=\"https://colab.research.google.com/assets/colab-badge.svg\" alt=\"Open In Colab\"/></a>"
      ]
    },
    {
      "cell_type": "code",
      "metadata": {
        "id": "N-AL2s8IOKAU",
        "colab_type": "code",
        "colab": {
          "base_uri": "https://localhost:8080/",
          "height": 62
        },
        "outputId": "7f35526e-c8aa-414b-b614-67f83b1506d4"
      },
      "source": [
        "import pandas as pd\n",
        "from sklearn.naive_bayes import GaussianNB\n",
        "from sklearn.model_selection import train_test_split\n",
        "from sklearn.feature_extraction.text import TfidfVectorizer\n",
        "from sklearn.naive_bayes import MultinomialNB\n",
        "from sklearn.metrics import accuracy_score\n",
        "from sklearn.multiclass import OneVsRestClassifier\n",
        "import nltk\n",
        "nltk.download('stopwords')\n",
        "from nltk.corpus import stopwords\n",
        "stop_words = set(stopwords.words('english'))\n",
        "from sklearn.svm import LinearSVC\n",
        "from sklearn.linear_model import LogisticRegression\n",
        "import seaborn as sns\n",
        "import matplotlib.pyplot as plt\n"
      ],
      "execution_count": 26,
      "outputs": [
        {
          "output_type": "stream",
          "text": [
            "[nltk_data] Downloading package stopwords to /root/nltk_data...\n",
            "[nltk_data]   Package stopwords is already up-to-date!\n"
          ],
          "name": "stdout"
        }
      ]
    },
    {
      "cell_type": "code",
      "metadata": {
        "id": "xROz84gfPWt3",
        "colab_type": "code",
        "colab": {
          "base_uri": "https://localhost:8080/",
          "height": 258
        },
        "outputId": "2215b2ac-1b37-4073-d856-ea077efb8aff"
      },
      "source": [
        "cd = pd.read_csv('Claims_Description.csv')\n",
        "uf = cd.groupby(cd['class']).count()\n",
        "uf['class'] = uf.index\n",
        "uf\n",
        "# uf\n",
        "# uf.nlargest(3,'description')"
      ],
      "execution_count": 52,
      "outputs": [
        {
          "output_type": "execute_result",
          "data": {
            "text/html": [
              "<div>\n",
              "<style scoped>\n",
              "    .dataframe tbody tr th:only-of-type {\n",
              "        vertical-align: middle;\n",
              "    }\n",
              "\n",
              "    .dataframe tbody tr th {\n",
              "        vertical-align: top;\n",
              "    }\n",
              "\n",
              "    .dataframe thead th {\n",
              "        text-align: right;\n",
              "    }\n",
              "</style>\n",
              "<table border=\"1\" class=\"dataframe\">\n",
              "  <thead>\n",
              "    <tr style=\"text-align: right;\">\n",
              "      <th></th>\n",
              "      <th>description</th>\n",
              "      <th>class</th>\n",
              "    </tr>\n",
              "    <tr>\n",
              "      <th>class</th>\n",
              "      <th></th>\n",
              "      <th></th>\n",
              "    </tr>\n",
              "  </thead>\n",
              "  <tbody>\n",
              "    <tr>\n",
              "      <th>earthquake</th>\n",
              "      <td>1</td>\n",
              "      <td>earthquake</td>\n",
              "    </tr>\n",
              "    <tr>\n",
              "      <th>expensepaid</th>\n",
              "      <td>1</td>\n",
              "      <td>expensepaid</td>\n",
              "    </tr>\n",
              "    <tr>\n",
              "      <th>flood</th>\n",
              "      <td>2</td>\n",
              "      <td>flood</td>\n",
              "    </tr>\n",
              "    <tr>\n",
              "      <th>indemnity</th>\n",
              "      <td>3</td>\n",
              "      <td>indemnity</td>\n",
              "    </tr>\n",
              "    <tr>\n",
              "      <th>medical</th>\n",
              "      <td>2</td>\n",
              "      <td>medical</td>\n",
              "    </tr>\n",
              "  </tbody>\n",
              "</table>\n",
              "</div>"
            ],
            "text/plain": [
              "             description        class\n",
              "class                                \n",
              "earthquake             1   earthquake\n",
              "expensepaid            1  expensepaid\n",
              "flood                  2        flood\n",
              "indemnity              3    indemnity\n",
              "medical                2      medical"
            ]
          },
          "metadata": {
            "tags": []
          },
          "execution_count": 52
        }
      ]
    },
    {
      "cell_type": "code",
      "metadata": {
        "id": "OrlW7WrGXMDy",
        "colab_type": "code",
        "colab": {
          "base_uri": "https://localhost:8080/",
          "height": 484
        },
        "outputId": "9bb67b9f-e8db-43d0-fba9-24ccdd97a865"
      },
      "source": [
        "uf_bars = pd.DataFrame(uf, columns=['class', 'description'])\n",
        "uf_bars\n",
        "\n",
        "uf_bars.plot(x='class', y='description', kind='bar', legend=False, grid=True, figsize=(8,6))\n",
        "plt.title(\"Occurrences per class\")\n",
        "plt.ylabel('# of Occurrences', fontsize=12)\n",
        "plt.xlabel('ClaimClass', fontsize=12)"
      ],
      "execution_count": 55,
      "outputs": [
        {
          "output_type": "execute_result",
          "data": {
            "text/plain": [
              "Text(0.5, 0, 'ClaimClass')"
            ]
          },
          "metadata": {
            "tags": []
          },
          "execution_count": 55
        },
        {
          "output_type": "display_data",
          "data": {
            "image/png": "[encoded data removed]",
            "text/plain": [
              "<Figure size 576x432 with 1 Axes>"
            ]
          },
          "metadata": {
            "tags": [],
            "needs_background": "light"
          }
        }
      ]
    },
    {
      "cell_type": "code",
      "metadata": {
        "id": "Y_pTxsbgPgVK",
        "colab_type": "code",
        "colab": {}
      },
      "source": [
        "model = GaussianNB()\n",
        "mod = model.fit()"
      ],
      "execution_count": null,
      "outputs": []
    }
  ]
}