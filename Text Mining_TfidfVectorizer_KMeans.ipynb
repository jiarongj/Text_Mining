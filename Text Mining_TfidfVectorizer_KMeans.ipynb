{
 "cells": [
  {
   "cell_type": "markdown",
   "metadata": {},
   "source": [
    "# Welcome to Jupyter!"
   ]
  },
  {
   "cell_type": "code",
   "execution_count": 2,
   "metadata": {},
   "outputs": [
    {
     "name": "stdout",
     "output_type": "stream",
     "text": [
      "WARNING: pip is being invoked by an old script wrapper. This will fail in a future version of pip.\n",
      "Please see https://github.com/pypa/pip/issues/5599 for advice on fixing the underlying issue.\n",
      "To avoid this problem you can invoke Python with '-m pip' instead of running pip directly.\n",
      "Requirement already satisfied: sklearn in /srv/conda/envs/notebook/lib/python3.6/site-packages (0.0)\n",
      "Requirement already satisfied: scikit-learn in /srv/conda/envs/notebook/lib/python3.6/site-packages (from sklearn) (0.22.2.post1)\n",
      "Requirement already satisfied: scipy>=0.17.0 in /srv/conda/envs/notebook/lib/python3.6/site-packages (from scikit-learn->sklearn) (1.4.1)\n",
      "Requirement already satisfied: numpy>=1.11.0 in /srv/conda/envs/notebook/lib/python3.6/site-packages (from scikit-learn->sklearn) (1.18.1)\n",
      "Requirement already satisfied: joblib>=0.11 in /srv/conda/envs/notebook/lib/python3.6/site-packages (from scikit-learn->sklearn) (0.14.1)\n"
     ]
    }
   ],
   "source": [
    "!pip install sklearn\n",
    "from sklearn.feature_extraction.text import TfidfVectorizer"
   ]
  },
  {
   "cell_type": "code",
   "execution_count": 4,
   "metadata": {},
   "outputs": [],
   "source": [
    "from sklearn.cluster import KMeans"
   ]
  },
  {
   "cell_type": "code",
   "execution_count": 40,
   "metadata": {},
   "outputs": [],
   "source": [
    "all_text  =\"\"\"\n",
    "this beautiful flower\n",
    "like me and I love you Xiaoyi\n",
    "Xiaoyi likes this flower better than me\n",
    "and that I hope I can be helpful\n",
    "a helpful girl is always lucky\n",
    "a lucky girl may find her beautiful flower \n",
    "the night is different with flower flavor\n",
    "I help the girl to find the flower\n",
    "\"\"\".split(\"\\n\")[1:-1]"
   ]
  },
  {
   "cell_type": "code",
   "execution_count": 41,
   "metadata": {},
   "outputs": [],
   "source": [
    "import string\n",
    "def preprocessing(line):\n",
    "    line = line.lower()\n",
    "    line = re.sub(r\"[{}]\".format(string.punctuation), \" \", line)\n",
    "    return line"
   ]
  },
  {
   "cell_type": "code",
   "execution_count": 42,
   "metadata": {},
   "outputs": [
    {
     "name": "stdout",
     "output_type": "stream",
     "text": [
      "[0 3 3 1 1 0 2 2]\n"
     ]
    }
   ],
   "source": [
    "import re\n",
    "tfidf_vectorizer = TfidfVectorizer(preprocessor=preprocessing)\n",
    "tfidf = tfidf_vectorizer.fit_transform(all_text)\n",
    "\n",
    "kmeans = KMeans(n_clusters=4).fit(tfidf)\n",
    "print(kmeans.labels_)"
   ]
  },
  {
   "cell_type": "code",
   "execution_count": 43,
   "metadata": {},
   "outputs": [
    {
     "data": {
      "text/plain": [
       "array([1, 3], dtype=int32)"
      ]
     },
     "execution_count": 43,
     "metadata": {},
     "output_type": "execute_result"
    }
   ],
   "source": [
    "lines_for_predicting = [\"helpful girl is always lucky!\", \"Xiaoyi likes me\"]\n",
    "kmeans.predict(tfidf_vectorizer.transform(lines_for_predicting))\n",
    "\n",
    "# array([0, 1], dtype=int32)"
   ]
  },
  {
   "cell_type": "code",
   "execution_count": 39,
   "metadata": {},
   "outputs": [
    {
     "name": "stdout",
     "output_type": "stream",
     "text": [
      "[[0.0499172  0.0499172  0.         0.09197562 0.17695554 0.\n",
      "  0.         0.         0.0499172  0.0877347  0.         0.\n",
      "  0.072178   0.         0.         0.06297684 0.         0.\n",
      "  0.         0.         0.         0.         0.14745767 0.\n",
      "  0.09476266 0.         0.0640045  0.         0.         0.\n",
      "  0.         0.06297684 0.0656175  0.         0.14783719 0.14926737\n",
      "  0.         0.         0.06297684 0.         0.         0.\n",
      "  0.         0.         0.0499172  0.         0.         0.0656175\n",
      "  0.         0.         0.         0.         0.         0.\n",
      "  0.         0.06297684 0.         0.0656175  0.         0.06297684\n",
      "  0.         0.0499172  0.0499172  0.05996997 0.         0.06297684\n",
      "  0.05996997 0.         0.0656175  0.         0.0499172  0.\n",
      "  0.         0.         0.0640045  0.         0.0877347  0.0656175\n",
      "  0.         0.         0.13533787 0.0499172  0.0499172  0.\n",
      "  0.         0.05996997 0.         0.         0.         0.05996997\n",
      "  0.         0.09476266]\n",
      " [0.         0.         0.04084495 0.07855988 0.         0.0517622\n",
      "  0.04084495 0.04617737 0.         0.         0.03622664 0.05438055\n",
      "  0.0468958  0.04084495 0.04084495 0.         0.11094489 0.04084495\n",
      "  0.04617737 0.03893849 0.04084495 0.07787699 0.04429651 0.03622664\n",
      "  0.         0.05438055 0.06664235 0.05438055 0.13176987 0.04820888\n",
      "  0.0734008  0.         0.         0.03893849 0.         0.09404013\n",
      "  0.0710622  0.03622664 0.         0.04084495 0.03622664 0.04820888\n",
      "  0.04820888 0.03622664 0.         0.03622664 0.0517622  0.\n",
      "  0.03622664 0.10259806 0.03622664 0.04617737 0.03622664 0.08047493\n",
      "  0.04084495 0.         0.04820888 0.         0.0734008  0.\n",
      "  0.04617737 0.         0.         0.         0.03893849 0.\n",
      "  0.         0.03622664 0.         0.04084495 0.         0.03622664\n",
      "  0.03893849 0.04820888 0.06664235 0.03893849 0.         0.\n",
      "  0.18577842 0.0517622  0.08448045 0.         0.         0.04617737\n",
      "  0.07281411 0.         0.04820888 0.04617737 0.03622664 0.\n",
      "  0.09153363 0.        ]]\n"
     ]
    }
   ],
   "source": [
    "print(kmeans.cluster_centers_)"
   ]
  },
  {
   "cell_type": "code",
   "execution_count": 84,
   "metadata": {},
   "outputs": [],
   "source": [
    "line = 'Xiaoyi []{like}.#% this, ! bur  flower better than me{'"
   ]
  },
  {
   "cell_type": "code",
   "execution_count": 85,
   "metadata": {},
   "outputs": [],
   "source": [
    "line = re.sub(r\"[{}]\".format(string.punctuation), \"\", line)"
   ]
  },
  {
   "cell_type": "code",
   "execution_count": 86,
   "metadata": {},
   "outputs": [
    {
     "data": {
      "text/plain": [
       "'Xiaoyi like this  bur  flower better than me'"
      ]
     },
     "execution_count": 86,
     "metadata": {},
     "output_type": "execute_result"
    }
   ],
   "source": [
    "line"
   ]
  },
  {
   "cell_type": "code",
   "execution_count": null,
   "metadata": {},
   "outputs": [],
   "source": []
  },
  {
   "cell_type": "code",
   "execution_count": null,
   "metadata": {},
   "outputs": [],
   "source": []
  }
 ],
 "metadata": {
  "kernelspec": {
   "display_name": "Python 3",
   "language": "python",
   "name": "python3"
  },
  "language_info": {
   "codemirror_mode": {
    "name": "ipython",
    "version": 3
   },
   "file_extension": ".py",
   "mimetype": "text/x-python",
   "name": "python",
   "nbconvert_exporter": "python",
   "pygments_lexer": "ipython3",
   "version": "3.6.10"
  }
 },
 "nbformat": 4,
 "nbformat_minor": 2
}
